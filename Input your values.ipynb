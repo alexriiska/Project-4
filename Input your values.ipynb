{
 "cells": [
  {
   "cell_type": "code",
   "execution_count": 1,
   "id": "13252143",
   "metadata": {},
   "outputs": [],
   "source": [
    "import numpy as np\n",
    "import pandas as pd\n",
    "import matplotlib.pyplot as plt\n",
    "import seaborn as sns\n",
    "import warnings\n",
    "import os\n",
    "import pickle\n",
    "from sklearn.linear_model import LogisticRegression\n",
    "from sklearn.datasets import make_blobs\n",
    "from sklearn.preprocessing import MinMaxScaler\n",
    "from sklearn.model_selection import train_test_split\n",
    "from sklearn.metrics import accuracy_score\n",
    "import seaborn as sns\n",
    "\n",
    "heart = pd.read_csv('Resources/heart.csv')"
   ]
  },
  {
   "cell_type": "code",
   "execution_count": 2,
   "id": "b1366400",
   "metadata": {},
   "outputs": [
    {
     "name": "stdout",
     "output_type": "stream",
     "text": [
      "Training Data Score: 0.8596730245231607\n",
      "Testing Data Score: 0.8858695652173914\n",
      " Logistic model accuracy: 0.8858695652173914\n"
     ]
    }
   ],
   "source": [
    "#Make sex into int\n",
    "heart['Sex'] = heart['Sex'].map({'M':0,\n",
    "                               'F':1})\n",
    "#Make ExerciseAngina into int\n",
    "heart['ExerciseAngina'] = heart['ExerciseAngina'].map({'N': 0, 'Y': 1})\n",
    "\n",
    "#Make chestpain into int\n",
    "heart['ChestPainType'] = heart['ChestPainType'].map({\"ASY\": 0, \"ATA\": 1, \"NAP\": 2, \"TA\": 3})\n",
    "\n",
    "#Make RestingECG into int\n",
    "heart['RestingECG'] = heart['RestingECG'].map({\"Normal\": 0, \"ST\": 1, \"LVH\": 2})\n",
    "\n",
    "#Make ST_Slope into int\n",
    "heart['ST_Slope'] = heart['ST_Slope'].map({'Down': 0, 'Flat': 1, 'Up': 2})\n",
    "\n",
    "# Creating Dummy Variables for ChestPainType, thal and slope ---\n",
    "ChestPainType = pd.get_dummies(heart['ChestPainType'], prefix='ChestPainType')\n",
    "RestingECG = pd.get_dummies(heart['RestingECG'], prefix='RestingECG')\n",
    "ST_Slope = pd.get_dummies(heart['ST_Slope'], prefix='ST_Slope')\n",
    "\n",
    "# --- Merge Dummy Variables to Main Data Frame ---\n",
    "frames = [heart, ChestPainType, RestingECG, ST_Slope]\n",
    "heart = pd.concat(frames, axis = 1)\n",
    "\n",
    "# Drop Unnecessary Variables\n",
    "heart = heart.drop(columns = ['ChestPainType', 'RestingECG', 'ST_Slope', 'FastingBS'])\n",
    "\n",
    "# Seperating \n",
    "X = heart.drop(['HeartDisease'], axis=1)\n",
    "y = heart['HeartDisease']\n",
    "\n",
    "# Normalize to increase number of iterations\n",
    "X = MinMaxScaler().fit_transform(X)\n",
    "\n",
    "# Splitting Dataset\n",
    "X_train, X_test, y_train, y_test = train_test_split(X, y, test_size=0.2, random_state=4)\n",
    "\n",
    "classifier = LogisticRegression()\n",
    "classifier\n",
    "\n",
    "LogisticRegression(C=1.0, class_weight=None, dual=False, fit_intercept=True,\n",
    "                   intercept_scaling=1, l1_ratio=None, max_iter=100,\n",
    "                   multi_class='auto', n_jobs=None, penalty='l2',\n",
    "                   random_state=None, solver='lbfgs', tol=0.0001, verbose=0,\n",
    "                   warm_start=False)\n",
    "\n",
    "classifier.fit(X_train, y_train)\n",
    "\n",
    "print(f\"Training Data Score: {classifier.score(X_train, y_train)}\")\n",
    "print(f\"Testing Data Score: {classifier.score(X_test, y_test)}\")\n",
    "\n",
    "y_pred = classifier.predict(X_test)\n",
    "print(f\" Logistic model accuracy: {accuracy_score(y_test,y_pred)}\")"
   ]
  },
  {
   "cell_type": "markdown",
   "id": "cab0cdeb",
   "metadata": {},
   "source": [
    "### Now we will conduct a prediction based on your own values!\""
   ]
  },
  {
   "cell_type": "code",
   "execution_count": 4,
   "id": "7b450638",
   "metadata": {},
   "outputs": [
    {
     "name": "stdout",
     "output_type": "stream",
     "text": [
      "Enter age:21\n"
     ]
    }
   ],
   "source": [
    "age = input(\"Enter age:\")"
   ]
  },
  {
   "cell_type": "code",
   "execution_count": 5,
   "id": "2e50085b",
   "metadata": {},
   "outputs": [
    {
     "name": "stdout",
     "output_type": "stream",
     "text": [
      "Enter gender (male = 0 and female = 1):1\n"
     ]
    }
   ],
   "source": [
    "sex = input(\"Enter gender (male = 0 and female = 1):\")"
   ]
  },
  {
   "cell_type": "code",
   "execution_count": 6,
   "id": "6f6d912e",
   "metadata": {},
   "outputs": [
    {
     "name": "stdout",
     "output_type": "stream",
     "text": [
      "Enter 1 if chest pain is ASY (otherwise enter 0):0\n"
     ]
    }
   ],
   "source": [
    "ASY = input(\"Enter 1 if chest pain is ASY (otherwise enter 0):\")"
   ]
  },
  {
   "cell_type": "code",
   "execution_count": 7,
   "id": "7a499f4c",
   "metadata": {},
   "outputs": [
    {
     "name": "stdout",
     "output_type": "stream",
     "text": [
      "Enter 1 if chest pain is ATA (otherwise enter 0):0\n"
     ]
    }
   ],
   "source": [
    "ATA = input(\"Enter 1 if chest pain is ATA (otherwise enter 0):\")"
   ]
  },
  {
   "cell_type": "code",
   "execution_count": 8,
   "id": "bce29b39",
   "metadata": {},
   "outputs": [
    {
     "name": "stdout",
     "output_type": "stream",
     "text": [
      "Enter 1 if chest pain is NAP (otherwise enter 0):0\n"
     ]
    }
   ],
   "source": [
    "NAP = input(\"Enter 1 if chest pain is NAP (otherwise enter 0):\")"
   ]
  },
  {
   "cell_type": "code",
   "execution_count": 9,
   "id": "021a5e3d",
   "metadata": {
    "scrolled": true
   },
   "outputs": [
    {
     "name": "stdout",
     "output_type": "stream",
     "text": [
      "Enter 1 if chest pain is TA (otherwise enter 0):0\n"
     ]
    }
   ],
   "source": [
    "TA = input(\"Enter 1 if chest pain is TA (otherwise enter 0):\")"
   ]
  },
  {
   "cell_type": "code",
   "execution_count": 10,
   "id": "6dd8ca28",
   "metadata": {},
   "outputs": [
    {
     "name": "stdout",
     "output_type": "stream",
     "text": [
      "Enter resting blood pressure (usual range: 120-180):120\n"
     ]
    }
   ],
   "source": [
    "restingBP = input(\"Enter resting blood pressure (usual range: 120-180):\")"
   ]
  },
  {
   "cell_type": "markdown",
   "id": "4c9de822",
   "metadata": {},
   "source": [
    "### \"Cholesterol ranges\"\n",
    "### \"Normal: Less than 200 mg/dL\"\n",
    "### \"Borderline high: 200 to 239 mg/dL\"\n",
    "### \"High: At or above 240 mg/dL\""
   ]
  },
  {
   "cell_type": "code",
   "execution_count": 12,
   "id": "8eda6bca",
   "metadata": {},
   "outputs": [
    {
     "name": "stdout",
     "output_type": "stream",
     "text": [
      "Enter cholesterol:129\n"
     ]
    }
   ],
   "source": [
    "cholesterol= input(\"Enter cholesterol:\")"
   ]
  },
  {
   "cell_type": "code",
   "execution_count": 13,
   "id": "98543216",
   "metadata": {},
   "outputs": [
    {
     "name": "stdout",
     "output_type": "stream",
     "text": [
      "Enter 1 if resting ECG is normal (otherwise enter 0):1\n"
     ]
    }
   ],
   "source": [
    "normalECG = input(\"Enter 1 if resting ECG is normal (otherwise enter 0):\")"
   ]
  },
  {
   "cell_type": "code",
   "execution_count": 14,
   "id": "304e00e2",
   "metadata": {},
   "outputs": [
    {
     "name": "stdout",
     "output_type": "stream",
     "text": [
      "Enter 1 if resting ECG is ST (otherwise enter 0):0\n"
     ]
    }
   ],
   "source": [
    "stECG = input(\"Enter 1 if resting ECG is ST (otherwise enter 0):\")"
   ]
  },
  {
   "cell_type": "code",
   "execution_count": 15,
   "id": "c3d1a240",
   "metadata": {},
   "outputs": [
    {
     "name": "stdout",
     "output_type": "stream",
     "text": [
      "Enter 1 if resting ECG is LVH (otherwise enter 0):0\n"
     ]
    }
   ],
   "source": [
    "lvhECG = input(\"Enter 1 if resting ECG is LVH (otherwise enter 0):\")"
   ]
  },
  {
   "cell_type": "markdown",
   "id": "079d70a8",
   "metadata": {},
   "source": [
    "### \"You can estimate your maximum heart rate by subtracting your age from 220.\""
   ]
  },
  {
   "cell_type": "code",
   "execution_count": 17,
   "id": "6a7ad439",
   "metadata": {},
   "outputs": [
    {
     "name": "stdout",
     "output_type": "stream",
     "text": [
      "Enter max heart rate:199\n"
     ]
    }
   ],
   "source": [
    "maxHR = input(\"Enter max heart rate:\")"
   ]
  },
  {
   "cell_type": "code",
   "execution_count": 18,
   "id": "f76dba24",
   "metadata": {},
   "outputs": [
    {
     "name": "stdout",
     "output_type": "stream",
     "text": [
      "Enter exercise induced angina (no= 0 or yes = 1):0\n"
     ]
    }
   ],
   "source": [
    "exercise = input(\"Enter exercise induced angina (no= 0 or yes = 1):\")"
   ]
  },
  {
   "cell_type": "code",
   "execution_count": 19,
   "id": "5d6379ed",
   "metadata": {},
   "outputs": [
    {
     "name": "stdout",
     "output_type": "stream",
     "text": [
      "Enter ST depression induced by exercise relative to rest (Enter 0 if you do not have this condition):0\n"
     ]
    }
   ],
   "source": [
    "oldpeak = input(\"Enter ST depression induced by exercise relative to rest (Enter 0 if you do not have this condition):\")"
   ]
  },
  {
   "cell_type": "code",
   "execution_count": 20,
   "id": "ae0f74a9",
   "metadata": {},
   "outputs": [
    {
     "name": "stdout",
     "output_type": "stream",
     "text": [
      "If you entered the value of zero in the previous question your ST segment is up\n"
     ]
    }
   ],
   "source": [
    "print(\"If you entered the value of zero in the previous question your ST segment is up\")"
   ]
  },
  {
   "cell_type": "code",
   "execution_count": 21,
   "id": "dd697918",
   "metadata": {},
   "outputs": [
    {
     "name": "stdout",
     "output_type": "stream",
     "text": [
      "Enter 1 if slope of the peak exercise ST segment is down (otherwise enter 0):0\n"
     ]
    }
   ],
   "source": [
    "down_slope = input(\"Enter 1 if slope of the peak exercise ST segment is down (otherwise enter 0):\")"
   ]
  },
  {
   "cell_type": "code",
   "execution_count": 22,
   "id": "e7d6a3bb",
   "metadata": {},
   "outputs": [
    {
     "name": "stdout",
     "output_type": "stream",
     "text": [
      "Enter 1 if slope of the peak exercise ST segment is flat (otherwise enter 0):0\n"
     ]
    }
   ],
   "source": [
    "flat_slope = input(\"Enter 1 if slope of the peak exercise ST segment is flat (otherwise enter 0):\")"
   ]
  },
  {
   "cell_type": "code",
   "execution_count": 23,
   "id": "c1b59ab4",
   "metadata": {},
   "outputs": [
    {
     "name": "stdout",
     "output_type": "stream",
     "text": [
      "Enter 1 if slope of the peak exercise ST segment is up (otherwise enter 0):1\n"
     ]
    }
   ],
   "source": [
    "up_slope = input(\"Enter 1 if slope of the peak exercise ST segment is up (otherwise enter 0):\")"
   ]
  },
  {
   "cell_type": "code",
   "execution_count": 26,
   "id": "63395d5b",
   "metadata": {},
   "outputs": [
    {
     "name": "stderr",
     "output_type": "stream",
     "text": [
      "/Users/laurane/opt/anaconda3/lib/python3.9/site-packages/sklearn/utils/validation.py:63: FutureWarning: Arrays of bytes/strings is being converted to decimal numbers if dtype='numeric'. This behavior is deprecated in 0.24 and will be removed in 1.1 (renaming of 0.26). Please convert your data to numeric values explicitly instead.\n",
      "  return f(*args, **kwargs)\n"
     ]
    }
   ],
   "source": [
    "# Generate a new data point (the red circle)\n",
    "import numpy as np\n",
    "new_data = np.array([[age, sex, ASY, ATA, NAP, TA, restingBP, cholesterol, normalECG, stECG, lvhECG, maxHR, exercise, oldpeak, down_slope, flat_slope, up_slope]])\n",
    "\n",
    "# Predict the class (purple or yellow) of the new data point\n",
    "predictions = classifier.predict(new_data)"
   ]
  },
  {
   "cell_type": "code",
   "execution_count": 25,
   "id": "0099e899",
   "metadata": {},
   "outputs": [
    {
     "name": "stdout",
     "output_type": "stream",
     "text": [
      "WARNING: You have a high probability of having heart failure!\n"
     ]
    }
   ],
   "source": [
    "if predictions == 1: \n",
    "    print(\"WARNING: You have a high probability of having heart failure!\")\n",
    "else :\n",
    "    print(\"CONGRATULATIONS: You have a low probability of having heart failure!\")"
   ]
  }
 ],
 "metadata": {
  "kernelspec": {
   "display_name": "Python 3 (ipykernel)",
   "language": "python",
   "name": "python3"
  },
  "language_info": {
   "codemirror_mode": {
    "name": "ipython",
    "version": 3
   },
   "file_extension": ".py",
   "mimetype": "text/x-python",
   "name": "python",
   "nbconvert_exporter": "python",
   "pygments_lexer": "ipython3",
   "version": "3.9.7"
  }
 },
 "nbformat": 4,
 "nbformat_minor": 5
}
